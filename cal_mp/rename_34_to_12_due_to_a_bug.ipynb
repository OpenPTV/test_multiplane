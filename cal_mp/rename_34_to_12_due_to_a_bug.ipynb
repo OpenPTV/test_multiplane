{
 "cells": [
  {
   "cell_type": "code",
   "execution_count": 23,
   "metadata": {
    "collapsed": true
   },
   "outputs": [],
   "source": [
    "import os, glob, sys, string, shutil"
   ]
  },
  {
   "cell_type": "code",
   "execution_count": 24,
   "metadata": {
    "collapsed": true
   },
   "outputs": [],
   "source": [
    "fix = glob.glob('*.fix')\n",
    "crd = glob.glob('*.crd')"
   ]
  },
  {
   "cell_type": "code",
   "execution_count": 25,
   "metadata": {
    "collapsed": false
   },
   "outputs": [
    {
     "data": {
      "text/plain": [
       "(['cam3.tif.fix',\n",
       "  'cam4.tif.fix',\n",
       "  'east3.tif.fix',\n",
       "  'east4.tif.fix',\n",
       "  'mideast3.tif.fix',\n",
       "  'mideast4.tif.fix',\n",
       "  'midwest3.tif.fix',\n",
       "  'midwest4.tif.fix',\n",
       "  'west3.tif.fix',\n",
       "  'west4.tif.fix'],\n",
       " ['cam3.tif.crd',\n",
       "  'cam4.tif.crd',\n",
       "  'east3.tif.crd',\n",
       "  'east4.tif.crd',\n",
       "  'mideast3.tif.crd',\n",
       "  'mideast4.tif.crd',\n",
       "  'midwest3.tif.crd',\n",
       "  'midwest4.tif.crd',\n",
       "  'west3.tif.crd',\n",
       "  'west4.tif.crd'])"
      ]
     },
     "execution_count": 25,
     "metadata": {},
     "output_type": "execute_result"
    }
   ],
   "source": [
    "fix, crd"
   ]
  },
  {
   "cell_type": "code",
   "execution_count": 27,
   "metadata": {
    "collapsed": false
   },
   "outputs": [],
   "source": [
    "for f in crd:\n",
    "    if '3' in f:\n",
    "        shutil.copyfile(f,string.replace(f,'3','1'))\n",
    "    if '4' in f:\n",
    "        shutil.copyfile(f,string.replace(f,'4','2'))\n"
   ]
  },
  {
   "cell_type": "code",
   "execution_count": 16,
   "metadata": {
    "collapsed": false
   },
   "outputs": [
    {
     "data": {
      "text/plain": [
       "'cam3.tif.crd'"
      ]
     },
     "execution_count": 16,
     "metadata": {},
     "output_type": "execute_result"
    }
   ],
   "source": [
    "tmp"
   ]
  },
  {
   "cell_type": "code",
   "execution_count": 12,
   "metadata": {
    "collapsed": false
   },
   "outputs": [
    {
     "data": {
      "text/plain": [
       "'cam1.tif.fix'"
      ]
     },
     "execution_count": 12,
     "metadata": {},
     "output_type": "execute_result"
    }
   ],
   "source": [
    "string.replace(tmp,'3','1')"
   ]
  },
  {
   "cell_type": "code",
   "execution_count": null,
   "metadata": {
    "collapsed": true
   },
   "outputs": [],
   "source": []
  }
 ],
 "metadata": {
  "kernelspec": {
   "display_name": "Python 2",
   "language": "python",
   "name": "python2"
  },
  "language_info": {
   "codemirror_mode": {
    "name": "ipython",
    "version": 2
   },
   "file_extension": ".py",
   "mimetype": "text/x-python",
   "name": "python",
   "nbconvert_exporter": "python",
   "pygments_lexer": "ipython2",
   "version": "2.7.11"
  }
 },
 "nbformat": 4,
 "nbformat_minor": 0
}
